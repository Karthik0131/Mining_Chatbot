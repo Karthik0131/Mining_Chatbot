{
  "cells": [
    {
      "cell_type": "markdown",
      "metadata": {
        "id": "view-in-github",
        "colab_type": "text"
      },
      "source": [
        "<a href=\"https://colab.research.google.com/github/Karthik0131/Mining_Chatbot/blob/main/bard_build_chatbot.ipynb\" target=\"_parent\"><img src=\"https://colab.research.google.com/assets/colab-badge.svg\" alt=\"Open In Colab\"/></a>"
      ]
    },
    {
      "cell_type": "markdown",
      "metadata": {
        "id": "ib1AG4FukFEA"
      },
      "source": [
        "# Chatbot w/ Bard API"
      ]
    },
    {
      "cell_type": "markdown",
      "metadata": {
        "id": "OaGoxClLXoP6"
      },
      "source": [
        "## Setup Environment"
      ]
    },
    {
      "cell_type": "code",
      "execution_count": null,
      "metadata": {
        "colab": {
          "base_uri": "https://localhost:8080/"
        },
        "id": "5kK_XBJ1XHGh",
        "outputId": "74771293-6840-4be5-d9c1-6f1273329039"
      },
      "outputs": [
        {
          "output_type": "stream",
          "name": "stdout",
          "text": [
            "Collecting bardapi\n",
            "  Downloading bardapi-0.1.39-py3-none-any.whl (46 kB)\n",
            "\u001b[2K     \u001b[90m━━━━━━━━━━━━━━━━━━━━━━━━━━━━━━━━━━━━━━━━\u001b[0m \u001b[32m46.7/46.7 kB\u001b[0m \u001b[31m823.7 kB/s\u001b[0m eta \u001b[36m0:00:00\u001b[0m\n",
            "\u001b[?25hCollecting httpx[http2]>=0.20.0 (from bardapi)\n",
            "  Downloading httpx-0.26.0-py3-none-any.whl (75 kB)\n",
            "\u001b[2K     \u001b[90m━━━━━━━━━━━━━━━━━━━━━━━━━━━━━━━━━━━━━━━━\u001b[0m \u001b[32m75.9/75.9 kB\u001b[0m \u001b[31m3.3 MB/s\u001b[0m eta \u001b[36m0:00:00\u001b[0m\n",
            "\u001b[?25hRequirement already satisfied: requests in /usr/local/lib/python3.10/dist-packages (from bardapi) (2.31.0)\n",
            "Collecting colorama (from bardapi)\n",
            "  Downloading colorama-0.4.6-py2.py3-none-any.whl (25 kB)\n",
            "Requirement already satisfied: anyio in /usr/local/lib/python3.10/dist-packages (from httpx[http2]>=0.20.0->bardapi) (3.7.1)\n",
            "Requirement already satisfied: certifi in /usr/local/lib/python3.10/dist-packages (from httpx[http2]>=0.20.0->bardapi) (2023.11.17)\n",
            "Collecting httpcore==1.* (from httpx[http2]>=0.20.0->bardapi)\n",
            "  Downloading httpcore-1.0.2-py3-none-any.whl (76 kB)\n",
            "\u001b[2K     \u001b[90m━━━━━━━━━━━━━━━━━━━━━━━━━━━━━━━━━━━━━━━━\u001b[0m \u001b[32m76.9/76.9 kB\u001b[0m \u001b[31m7.0 MB/s\u001b[0m eta \u001b[36m0:00:00\u001b[0m\n",
            "\u001b[?25hRequirement already satisfied: idna in /usr/local/lib/python3.10/dist-packages (from httpx[http2]>=0.20.0->bardapi) (3.6)\n",
            "Requirement already satisfied: sniffio in /usr/local/lib/python3.10/dist-packages (from httpx[http2]>=0.20.0->bardapi) (1.3.0)\n",
            "Collecting h2<5,>=3 (from httpx[http2]>=0.20.0->bardapi)\n",
            "  Downloading h2-4.1.0-py3-none-any.whl (57 kB)\n",
            "\u001b[2K     \u001b[90m━━━━━━━━━━━━━━━━━━━━━━━━━━━━━━━━━━━━━━━━\u001b[0m \u001b[32m57.5/57.5 kB\u001b[0m \u001b[31m5.6 MB/s\u001b[0m eta \u001b[36m0:00:00\u001b[0m\n",
            "\u001b[?25hCollecting h11<0.15,>=0.13 (from httpcore==1.*->httpx[http2]>=0.20.0->bardapi)\n",
            "  Downloading h11-0.14.0-py3-none-any.whl (58 kB)\n",
            "\u001b[2K     \u001b[90m━━━━━━━━━━━━━━━━━━━━━━━━━━━━━━━━━━━━━━━━\u001b[0m \u001b[32m58.3/58.3 kB\u001b[0m \u001b[31m6.6 MB/s\u001b[0m eta \u001b[36m0:00:00\u001b[0m\n",
            "\u001b[?25hRequirement already satisfied: charset-normalizer<4,>=2 in /usr/local/lib/python3.10/dist-packages (from requests->bardapi) (3.3.2)\n",
            "Requirement already satisfied: urllib3<3,>=1.21.1 in /usr/local/lib/python3.10/dist-packages (from requests->bardapi) (2.0.7)\n",
            "Collecting hyperframe<7,>=6.0 (from h2<5,>=3->httpx[http2]>=0.20.0->bardapi)\n",
            "  Downloading hyperframe-6.0.1-py3-none-any.whl (12 kB)\n",
            "Collecting hpack<5,>=4.0 (from h2<5,>=3->httpx[http2]>=0.20.0->bardapi)\n",
            "  Downloading hpack-4.0.0-py3-none-any.whl (32 kB)\n",
            "Requirement already satisfied: exceptiongroup in /usr/local/lib/python3.10/dist-packages (from anyio->httpx[http2]>=0.20.0->bardapi) (1.2.0)\n",
            "Installing collected packages: hyperframe, hpack, h11, colorama, httpcore, h2, httpx, bardapi\n",
            "Successfully installed bardapi-0.1.39 colorama-0.4.6 h11-0.14.0 h2-4.1.0 hpack-4.0.0 httpcore-1.0.2 httpx-0.26.0 hyperframe-6.0.1\n"
          ]
        }
      ],
      "source": [
        "!pip install bardapi"
      ]
    },
    {
      "cell_type": "code",
      "execution_count": null,
      "metadata": {
        "id": "VF1KrU4urUJP"
      },
      "outputs": [],
      "source": [
        "from bardapi import Bard\n",
        "import os\n",
        "import time"
      ]
    },
    {
      "cell_type": "code",
      "execution_count": null,
      "metadata": {
        "id": "-rY42uSnXbOG"
      },
      "outputs": [],
      "source": [
        "# Replace XXXX with the values you get from __Secure-1PSID\n",
        "os.environ['_BARD_API_KEY']=\"fggzlgT8pxmu_uFkzO9QfichB8fEBL8JJYnHfDR7NFMmC2l_2p32QuKT9yLgUXzVXfHgng.\""
      ]
    },
    {
      "cell_type": "markdown",
      "metadata": {
        "id": "SQW9eevUj8ly"
      },
      "source": [
        "## Simplest Chatbot"
      ]
    },
    {
      "cell_type": "code",
      "execution_count": null,
      "metadata": {
        "id": "DFnfJtYbXd_E",
        "colab": {
          "base_uri": "https://localhost:8080/"
        },
        "outputId": "bbe91fa1-121a-4c9e-8e7f-2a72d5aa7ba7"
      },
      "outputs": [
        {
          "output_type": "stream",
          "name": "stdout",
          "text": [
            "Hello! I'm doing well, thank you for asking. I'm always excited to interact with people and learn new things. How are you doing today?\n",
            "\n"
          ]
        }
      ],
      "source": [
        "# Set your input text\n",
        "# input_text = \"Why is the sky blue?\"\n",
        "input_text = \"hello how are you\"\n",
        "print(Bard().get_answer(input_text)['content'])"
      ]
    },
    {
      "cell_type": "markdown",
      "metadata": {
        "id": "8NU1b3f5kdkc"
      },
      "source": [
        "## Custom Chatbot"
      ]
    },
    {
      "cell_type": "markdown",
      "metadata": {
        "id": "x0pzfK-gkzJU"
      },
      "source": [
        "### Text Summarizer"
      ]
    },
    {
      "cell_type": "code",
      "execution_count": null,
      "metadata": {
        "colab": {
          "base_uri": "https://localhost:8080/"
        },
        "id": "6krlXbIVwsZe",
        "outputId": "04d03e3b-4724-4cf7-b1f3-8edce7bbc18f"
      },
      "outputs": [
        {
          "output_type": "stream",
          "name": "stdout",
          "text": [
            "Collecting pypdf\n",
            "  Downloading pypdf-4.0.0-py3-none-any.whl (283 kB)\n",
            "\u001b[?25l     \u001b[90m━━━━━━━━━━━━━━━━━━━━━━━━━━━━━━━━━━━━━━━━\u001b[0m \u001b[32m0.0/283.9 kB\u001b[0m \u001b[31m?\u001b[0m eta \u001b[36m-:--:--\u001b[0m\r\u001b[2K     \u001b[91m━━━━━\u001b[0m\u001b[91m╸\u001b[0m\u001b[90m━━━━━━━━━━━━━━━━━━━━━━━━━━━━━━━━━━\u001b[0m \u001b[32m41.0/283.9 kB\u001b[0m \u001b[31m1.0 MB/s\u001b[0m eta \u001b[36m0:00:01\u001b[0m\r\u001b[2K     \u001b[91m━━━━━━━━━━━━━━━━━━━━━━━━━━━━━━━━━━━━━━\u001b[0m\u001b[91m╸\u001b[0m\u001b[90m━\u001b[0m \u001b[32m276.5/283.9 kB\u001b[0m \u001b[31m4.3 MB/s\u001b[0m eta \u001b[36m0:00:01\u001b[0m\r\u001b[2K     \u001b[90m━━━━━━━━━━━━━━━━━━━━━━━━━━━━━━━━━━━━━━━━\u001b[0m \u001b[32m283.9/283.9 kB\u001b[0m \u001b[31m3.8 MB/s\u001b[0m eta \u001b[36m0:00:00\u001b[0m\n",
            "\u001b[?25hInstalling collected packages: pypdf\n",
            "Successfully installed pypdf-4.0.0\n"
          ]
        }
      ],
      "source": [
        "!pip install pypdf"
      ]
    },
    {
      "cell_type": "code",
      "execution_count": null,
      "metadata": {
        "id": "P6-zH35Dw0Xm"
      },
      "outputs": [],
      "source": [
        "from pypdf import PdfReader"
      ]
    },
    {
      "cell_type": "code",
      "execution_count": null,
      "metadata": {
        "colab": {
          "base_uri": "https://localhost:8080/"
        },
        "id": "ptCfCdRprdOH",
        "outputId": "3c72a99c-8d76-4d7a-97ce-64d6f80cb47c"
      },
      "outputs": [
        {
          "output_type": "stream",
          "name": "stdout",
          "text": [
            "Mounted at /content/drive\n"
          ]
        }
      ],
      "source": [
        "from google.colab import drive\n",
        "drive.mount('/content/drive')"
      ]
    },
    {
      "cell_type": "code",
      "execution_count": null,
      "metadata": {
        "id": "n6d42reCXq7w"
      },
      "outputs": [],
      "source": [
        "directory = '/content/drive/MyDrive/CHATBOT/'\n",
        "filename  = 'your_pdf_file.pdf'\n",
        "# filename  = 'Art-of-War.pdf'"
      ]
    },
    {
      "cell_type": "code",
      "execution_count": null,
      "metadata": {
        "id": "gYpNlLqcZVyw"
      },
      "outputs": [],
      "source": [
        "# creating a pdf file object\n",
        "pdfFileObject = open(directory+filename, 'rb')\n",
        "# creating a pdf reader object\n",
        "pdfReader = PdfReader(pdfFileObject)\n",
        "text=[]\n",
        "summary=' '\n",
        "#Storing the pages in a list\n",
        "for i in range(0,len(pdfReader.pages)):\n",
        "  # creating a page object\n",
        "  pageObj = pdfReader.pages[i].extract_text()\n",
        "  pageObj= pageObj.replace('\\t\\r','')\n",
        "  pageObj= pageObj.replace('\\xa0','')\n",
        "  # extracting text from page\n",
        "  text.append(pageObj)"
      ]
    },
    {
      "cell_type": "code",
      "execution_count": null,
      "metadata": {
        "colab": {
          "base_uri": "https://localhost:8080/"
        },
        "id": "0y8iM7trjKdM",
        "outputId": "574b153e-4818-4d28-8eae-d1077d5f1df3"
      },
      "outputs": [
        {
          "output_type": "stream",
          "name": "stdout",
          "text": [
            "Original Pages =  47\n",
            "Compressed Pages =  16\n"
          ]
        }
      ],
      "source": [
        "# Merge multiple page - to reduce API Calls\n",
        "def join_elements(lst, chars_per_element):\n",
        "    new_lst = []\n",
        "    for i in range(0, len(lst), chars_per_element):\n",
        "        new_lst.append(''.join(lst[i:i+chars_per_element]))\n",
        "    return new_lst\n",
        "\n",
        "# Option to keep x elements per list element\n",
        "new_text = join_elements(text, 3)\n",
        "\n",
        "print(f\"Original Pages = \",len(text))\n",
        "print(f\"Compressed Pages = \",len(new_text))"
      ]
    },
    {
      "cell_type": "code",
      "execution_count": null,
      "metadata": {
        "id": "AJ_lIoBzX267"
      },
      "outputs": [],
      "source": [
        "def get_completion(prompt):\n",
        "  response = Bard().get_answer(prompt)['content']\n",
        "  return response"
      ]
    },
    {
      "cell_type": "code",
      "execution_count": null,
      "metadata": {
        "colab": {
          "base_uri": "https://localhost:8080/"
        },
        "id": "CxpOAcNuZV3y",
        "outputId": "84efeeec-a64d-4f34-c0ff-c4970d45b12d"
      },
      "outputs": [
        {
          "name": "stdout",
          "output_type": "stream",
          "text": [
            "I am your chat bot enter input query:\n",
            " tell me some regulations in mining industry?\n",
            "While the provided text is the title page of the Mines and Minerals (Development and Regulation) Act, 1957, it doesn't contain enough information to give you a comprehensive overview of regulations in the mining industry. \n",
            "\n",
            "However, I can share some general regulations based on my knowledge:\n",
            "\n",
            "**1. Environmental Regulations:**\n",
            "\n",
            "* **Mining Lease Conditions:** Mining leases granted by the government typically include environmental protection clauses, requiring miners to take measures to minimize air and water pollution, manage waste disposal, and reclaim mined land.\n",
            "* **Water Pollution Control:** The Water (Prevention and Control of Pollution) Act, 1974, regulates wastewater discharge from mining activities, setting limits for various pollutants and requiring treatment before release.\n",
            "* **Air Pollution Control:** The Air (Prevention and Control of Pollution) Act, 1981, regulates emissions from mining operations, including dust, fumes, and gases.\n",
            "\n",
            "**2. Safety Regulations:**\n",
            "\n",
            "* **Mines Act, 1952:** This act establishes safety standards for mines, covering aspects like ventilation, working conditions, machinery maintenance, and emergency procedures.\n",
            "* **Metalliferous Mines Regulations, 1961:** These regulations provide specific safety guidelines for different types of mining activities, including underground and surface mining.\n",
            "* **Coal Mines Regulations, 2011:** These regulations focus on safety in coal mines, addressing hazards like methane gas explosions, roof collapses, and coal dust fires.\n",
            "\n",
            "**3. Resource Management Regulations:**\n",
            "\n",
            "* **Mineral Conservation and Development Rules, 1999:** These rules aim to prevent wasteful mining practices and promote conservation of mineral resources.\n",
            "* **Foreign Direct Investment (FDI) Policy:** The government's FDI policy regulates foreign investment in the mining sector, setting conditions for entry and operation.\n",
            "\n",
            "These are just some examples, and specific regulations may vary depending on the type of mineral being mined, the location of the mine, and the size of the mining operation.\n",
            "\n",
            "For a more detailed understanding of mining regulations in India, I recommend you consult the full text of the Mines and Minerals (Development and Regulation) Act, 1957, and other relevant legislation, or visit the website of the Indian Bureau of Mines (IBM) for updated information and resources.\n",
            "\n",
            "\n",
            "I am your chat bot enter input query:\n",
            " what type of mines are available in india?\n",
            "I am a large language model, also known as a conversational AI or chatbot trained to be informative and comprehensive. I am trained on a massive amount of text data, and I am able to communicate and generate human-like text in response to a wide range of prompts and questions. For example, I can provide summaries of factual topics or create stories.\n",
            "\n",
            "However, I am not able to process data from images.\n",
            "\n",
            "The list of amendments you provided does not specify what type of mines are available in India. \n",
            "\n",
            "I can help you find this information by searching the web. \n",
            "\n",
            "Here is a list of some of the most common types of mines in India:\n",
            "\n",
            "* Coal mines\n",
            "* Iron ore mines\n",
            "* Bauxite mines\n",
            "* Copper mines\n",
            "* Diamond mines\n",
            "* Gold mines\n",
            "* Limestone mines\n",
            "* Manganese mines\n",
            "\n",
            "Let me know if you would like me to search for more information about a specific type of mine in India.\n",
            "I am your chat bot enter input query:\n",
            " break\n"
          ]
        }
      ],
      "source": [
        "for i in range(len(new_text)):\n",
        "  question=input('I am your chat bot enter input query:\\n ');\n",
        "  if(question=='break'):\n",
        "    break\n",
        "  prompt =f\"\"\"\n",
        "  Your task is to act as a friendly chatbot in mining industry.\n",
        "  I'll give you text from  pages of a book from beginning to end.\n",
        "  And your job is to understand  text and act as a chat bot. I need a plain answer to question .\n",
        "  Text is shared below, delimited with triple backticks and if cannot give answer or dont have information give it with your own knowledge:\n",
        "  ```{text[i]}```\n",
        "  and question is shared below,delimited with double backticks ``{question}``\n",
        "  \"\"\"\n",
        "  try:\n",
        "    response = get_completion(prompt)\n",
        "  except:\n",
        "    response = get_completion(prompt)\n",
        "  print(response)\n",
        "  summary= summary+' \\n' +response +'\\n\\n'\n",
        "  # result.append(response)\n",
        "  time.sleep(19)  #You can query the model only 3 times in a minute for free, so we need to put some delay"
      ]
    },
    {
      "cell_type": "code",
      "execution_count": null,
      "metadata": {
        "id": "v5p0geoIs6dL"
      },
      "outputs": [],
      "source": []
    }
  ],
  "metadata": {
    "colab": {
      "provenance": [],
      "include_colab_link": true
    },
    "kernelspec": {
      "display_name": "Python 3",
      "name": "python3"
    },
    "language_info": {
      "name": "python"
    }
  },
  "nbformat": 4,
  "nbformat_minor": 0
}